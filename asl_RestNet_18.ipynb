{
  "metadata": {
    "kernelspec": {
      "display_name": "Python 3",
      "name": "python3"
    },
    "language_info": {
      "name": "python",
      "version": "3.11.11",
      "mimetype": "text/x-python",
      "codemirror_mode": {
        "name": "ipython",
        "version": 3
      },
      "pygments_lexer": "ipython3",
      "nbconvert_exporter": "python",
      "file_extension": ".py"
    },
    "kaggle": {
      "accelerator": "nvidiaTeslaT4",
      "dataSources": [
        {
          "sourceId": 11350116,
          "sourceType": "datasetVersion",
          "datasetId": 7102008
        },
        {
          "sourceId": 11364652,
          "sourceType": "datasetVersion",
          "datasetId": 7113376
        }
      ],
      "dockerImageVersionId": 31012,
      "isInternetEnabled": true,
      "language": "python",
      "sourceType": "notebook",
      "isGpuEnabled": true
    },
    "colab": {
      "provenance": [],
      "gpuType": "T4"
    },
    "accelerator": "GPU"
  },
  "nbformat_minor": 0,
  "nbformat": 4,
  "cells": [
    {
      "cell_type": "markdown",
      "source": [],
      "metadata": {
        "id": "ctmq_F0CKRO1"
      }
    },
    {
      "cell_type": "code",
      "source": [
        "import kagglehub\n",
        "import shutil\n",
        "import os\n",
        "from torchvision import datasets, transforms\n",
        "from torch.utils.data import DataLoader, Subset\n",
        "from sklearn.model_selection import train_test_split\n",
        "from collections import Counter\n",
        "import matplotlib.pyplot as plt\n",
        "import numpy as np\n",
        "import torch\n",
        "import torch.nn as nn\n",
        "import torchvision.models as models\n",
        "from torchvision.models import resnet18, ResNet18_Weights\n",
        "import torch.optim as optim\n",
        "from tqdm import tqdm\n",
        "import time\n",
        "from sklearn.metrics import classification_report, confusion_matrix\n",
        "import seaborn as sns"
      ],
      "metadata": {
        "trusted": true,
        "execution": {
          "iopub.status.busy": "2025-04-11T14:54:28.198110Z",
          "iopub.execute_input": "2025-04-11T14:54:28.198391Z",
          "iopub.status.idle": "2025-04-11T14:54:40.926179Z",
          "shell.execute_reply.started": "2025-04-11T14:54:28.198373Z",
          "shell.execute_reply": "2025-04-11T14:54:40.925401Z"
        },
        "id": "bzHnY8rxBpqL"
      },
      "outputs": [],
      "execution_count": 1
    },
    {
      "cell_type": "markdown",
      "source": [
        "## **Data Preprocessing dan Eksplorasi Data**"
      ],
      "metadata": {
        "id": "axaPqbubDegV"
      }
    },
    {
      "cell_type": "code",
      "source": [
        "device = torch.device(\"cuda\" if torch.cuda.is_available() else \"cpu\")\n",
        "\n",
        "\n",
        "data_dir = kagglehub.dataset_download(\"althafr/asl0-9\")\n",
        "extract_dir = './asl_dataset'\n",
        "if not os.path.exists(extract_dir):\n",
        "    os.makedirs(extract_dir)\n",
        "\n",
        "for filename in os.listdir(data_dir):\n",
        "    src_path = os.path.join(data_dir, filename)\n",
        "    dst_path = os.path.join(extract_dir, filename)\n",
        "    if os.path.isdir(src_path):\n",
        "        shutil.copytree(src_path, dst_path, dirs_exist_ok=True)\n",
        "    else:\n",
        "        shutil.copy2(src_path, dst_path)\n",
        "\n",
        "transform = transforms.Compose([\n",
        "    transforms.Resize((224, 244)),\n",
        "    transforms.RandomRotation(20),\n",
        "    transforms.RandomResizedCrop(64, scale=(0.8, 1.0)),\n",
        "    transforms.RandomHorizontalFlip(),\n",
        "    transforms.ColorJitter(brightness=0.2),\n",
        "    transforms.RandomAffine(degrees=0, translate=(0.2, 0.2), shear=20),\n",
        "    transforms.ToTensor(),\n",
        "    transforms.Normalize([0.5], [0.5])\n",
        "])\n",
        "\n",
        "dataset = datasets.ImageFolder(root='./asl_dataset/Dataset', transform=transform)\n",
        "\n",
        "labels = [sample[1] for sample in dataset.samples]\n",
        "num_classes = len(set(labels))\n",
        "count_per_class = Counter(labels)\n",
        "\n",
        "print(\"Jumlah kelas:\", num_classes)\n",
        "print(\"Jumlah gambar per kelas:\")\n",
        "for idx, count in count_per_class.items():\n",
        "    print(f\"  {dataset.classes[idx]}: {count}\")\n",
        "\n",
        "target_class = '0'\n",
        "class_idx = dataset.class_to_idx[target_class]\n",
        "samples_in_class = [i for i, (_, label) in enumerate(dataset.samples) if label == class_idx]\n",
        "\n",
        "fig, axes = plt.subplots(1, 5, figsize=(15, 3))\n",
        "for i, ax in enumerate(axes):\n",
        "    idx = samples_in_class[i]\n",
        "    img, _ = dataset[idx]\n",
        "    img = img.permute(1, 2, 0).numpy()\n",
        "    img = (img * 0.5) + 0.5\n",
        "    ax.imshow(img)\n",
        "    ax.axis('off')\n",
        "    ax.set_title(f\"Class: {target_class}\")\n",
        "plt.tight_layout()\n",
        "plt.show()\n",
        "\n",
        "indices = list(range(len(dataset)))\n",
        "\n",
        "train_idx, temp_idx, _, temp_labels = train_test_split(\n",
        "    indices, labels, test_size=0.3, stratify=labels, random_state=42)\n",
        "\n",
        "val_idx, test_idx = train_test_split(\n",
        "    temp_idx, test_size=0.5, stratify=temp_labels, random_state=42)\n",
        "\n",
        "train_dataset = Subset(dataset, train_idx)\n",
        "val_dataset = Subset(dataset, val_idx)\n",
        "test_dataset = Subset(dataset, test_idx)\n",
        "\n",
        "train_loader = DataLoader(train_dataset, batch_size=32, shuffle=True)\n",
        "val_loader = DataLoader(val_dataset, batch_size=32, shuffle=False)\n",
        "test_loader = DataLoader(test_dataset, batch_size=32, shuffle=False)"
      ],
      "metadata": {
        "trusted": true,
        "execution": {
          "iopub.status.busy": "2025-04-11T14:54:40.927075Z",
          "iopub.execute_input": "2025-04-11T14:54:40.927679Z",
          "iopub.status.idle": "2025-04-11T14:54:40.932931Z",
          "shell.execute_reply.started": "2025-04-11T14:54:40.927643Z",
          "shell.execute_reply": "2025-04-11T14:54:40.932199Z"
        },
        "id": "UR7hB6Y4BpqR",
        "outputId": "57a37ea4-8a09-4134-c678-9db72d8481cf",
        "colab": {
          "base_uri": "https://localhost:8080/",
          "height": 582
        }
      },
      "outputs": [
        {
          "output_type": "stream",
          "name": "stdout",
          "text": [
            "Downloading from https://www.kaggle.com/api/v1/datasets/download/althafr/asl0-9?dataset_version_number=1...\n"
          ]
        },
        {
          "output_type": "stream",
          "name": "stderr",
          "text": [
            "100%|██████████| 16.3M/16.3M [00:01<00:00, 9.37MB/s]"
          ]
        },
        {
          "output_type": "stream",
          "name": "stdout",
          "text": [
            "Extracting files...\n"
          ]
        },
        {
          "output_type": "stream",
          "name": "stderr",
          "text": [
            "\n"
          ]
        },
        {
          "output_type": "stream",
          "name": "stdout",
          "text": [
            "Jumlah kelas: 10\n",
            "Jumlah gambar per kelas:\n",
            "  0: 205\n",
            "  1: 206\n",
            "  2: 206\n",
            "  3: 206\n",
            "  4: 207\n",
            "  5: 207\n",
            "  6: 207\n",
            "  7: 206\n",
            "  8: 208\n",
            "  9: 204\n"
          ]
        },
        {
          "output_type": "display_data",
          "data": {
            "text/plain": [
              "<Figure size 1500x300 with 5 Axes>"
            ],
            "image/png": "[encoded data removed]"
          },
          "metadata": {}
        }
      ],
      "execution_count": 2
    },
    {
      "cell_type": "markdown",
      "source": [
        "## **Fungsi - Fungsi**\n",
        "\n",
        "- Membuat model\n",
        "- optimizer\n",
        "- training\n",
        "- evaluasi\n",
        "- visualisasi"
      ],
      "metadata": {
        "id": "9xBr1g-7D0Ex"
      }
    },
    {
      "cell_type": "code",
      "source": [
        "def build_model(pretrained=False, num_classes=num_classes):\n",
        "    if pretrained:\n",
        "        model = resnet18(weights=ResNet18_Weights.DEFAULT)\n",
        "    else:\n",
        "        model = resnet18(weights=None)\n",
        "    model.fc = nn.Linear(model.fc.in_features, num_classes)\n",
        "    return model.to(device)\n",
        "\n",
        "\n",
        "def get_optimizer(model, optim_name='adam', lr=0.001):\n",
        "    if optim_name.lower() == 'adam':\n",
        "        return optim.Adam(model.parameters(), lr=lr)\n",
        "    elif optim_name.lower() == 'sgd':\n",
        "        return optim.SGD(model.parameters(), lr=lr, momentum=0.9)\n",
        "    else:\n",
        "        raise ValueError(\"Optimizer tidak dikenali\")\n",
        "\n",
        "\n",
        "def train(model, train_loader, val_loader, criterion, optimizer, device, epochs):\n",
        "    history = {'train_loss': [], 'train_acc': [], 'val_loss': [], 'val_acc': [], 'epoch_time': []}\n",
        "    total_training_start = time.time()\n",
        "    for epoch in range(epochs):\n",
        "        epoch_start = time.time()\n",
        "        model.train()\n",
        "        running_loss = 0.0\n",
        "        correct = 0\n",
        "        total = 0\n",
        "        loop = tqdm(train_loader, desc=f\"Epoch [{epoch+1}/{epochs}]\", leave=False)\n",
        "        for images, labels in loop:\n",
        "            images, labels = images.to(device), labels.to(device)\n",
        "            optimizer.zero_grad()\n",
        "            outputs = model(images)\n",
        "            loss = criterion(outputs, labels)\n",
        "            loss.backward()\n",
        "            optimizer.step()\n",
        "            running_loss += loss.item()\n",
        "            _, predicted = torch.max(outputs.data, 1)\n",
        "            total += labels.size(0)\n",
        "            correct += (predicted == labels).sum().item()\n",
        "            loop.set_postfix(loss=loss.item())\n",
        "        train_loss = running_loss / len(train_loader)\n",
        "        train_acc = correct / total\n",
        "        val_loss, val_acc = evaluate(model, val_loader, criterion, device, print_result=False)\n",
        "        epoch_duration = time.time() - epoch_start\n",
        "        history['epoch_time'].append(epoch_duration)\n",
        "        history['train_loss'].append(train_loss)\n",
        "        history['train_acc'].append(train_acc)\n",
        "        history['val_loss'].append(val_loss)\n",
        "        history['val_acc'].append(val_acc)\n",
        "        print(f\"[Epoch {epoch+1}] Train Loss: {train_loss:.4f}, Train Acc: {train_acc:.4f}, Val Loss: {val_loss:.4f}, Val Acc: {val_acc:.4f}, Time: {epoch_duration:.2f}s\")\n",
        "    total_training_time = time.time() - total_training_start\n",
        "    print(f\"\\nTotal Training Time: {total_training_time:.2f} seconds\")\n",
        "    return history\n",
        "\n",
        "\n",
        "def evaluate(model, data_loader, criterion, device, print_result=True):\n",
        "    model.eval()\n",
        "    correct = 0\n",
        "    total = 0\n",
        "    val_loss = 0.0\n",
        "    with torch.no_grad():\n",
        "        for images, labels in data_loader:\n",
        "            images, labels = images.to(device), labels.to(device)\n",
        "            outputs = model(images)\n",
        "            loss = criterion(outputs, labels)\n",
        "            val_loss += loss.item()\n",
        "            _, predicted = torch.max(outputs.data, 1)\n",
        "            total += labels.size(0)\n",
        "            correct += (predicted == labels).sum().item()\n",
        "    acc = correct / total\n",
        "    avg_loss = val_loss / len(data_loader)\n",
        "    if print_result:\n",
        "        print(f\"Validation Loss: {avg_loss:.4f}, Accuracy: {acc:.4f}\")\n",
        "    return avg_loss, acc\n",
        "\n",
        "\n",
        "def plot_training(history):\n",
        "    epochs = range(1, len(history['train_loss']) + 1)\n",
        "    plt.figure(figsize=(14, 5))\n",
        "    plt.subplot(1, 2, 1)\n",
        "    plt.plot(epochs, history['train_loss'], label='Train Loss')\n",
        "    plt.plot(epochs, history['val_loss'], label='Validation Loss')\n",
        "    plt.xlabel('Epoch')\n",
        "    plt.ylabel('Loss')\n",
        "    plt.title('Loss per Epoch')\n",
        "    plt.legend()\n",
        "    plt.subplot(1, 2, 2)\n",
        "    plt.plot(epochs, history['train_acc'], label='Train Accuracy')\n",
        "    plt.plot(epochs, history['val_acc'], label='Validation Accuracy')\n",
        "    plt.xlabel('Epoch')\n",
        "    plt.ylabel('Accuracy')\n",
        "    plt.title('Accuracy per Epoch')\n",
        "    plt.legend()\n",
        "    plt.tight_layout()\n",
        "    plt.show()\n",
        "\n",
        "\n",
        "def show_predictions(model, data_loader, class_names, device, max_images=8):\n",
        "    model.eval()\n",
        "    images_shown = 0\n",
        "    plt.figure(figsize=(16, 8))\n",
        "    with torch.no_grad():\n",
        "        for images, labels in data_loader:\n",
        "            images, labels = images.to(device), labels.to(device)\n",
        "            outputs = model(images)\n",
        "            _, preds = torch.max(outputs, 1)\n",
        "            for i in range(images.size(0)):\n",
        "                if images_shown >= max_images:\n",
        "                    break\n",
        "                plt.subplot(2, 4, images_shown + 1)\n",
        "                img = images[i].cpu().permute(1, 2, 0).numpy()\n",
        "                img = (img * 0.5) + 0.5\n",
        "                plt.imshow(img)\n",
        "                color = 'green' if preds[i] == labels[i] else 'red'\n",
        "                plt.title(f\"Pred: {class_names[preds[i]]}\\nTrue: {class_names[labels[i]]}\", color=color)\n",
        "                plt.axis('off')\n",
        "                images_shown += 1\n",
        "            if images_shown >= max_images:\n",
        "                break\n",
        "    plt.tight_layout()\n",
        "    plt.show()\n",
        "\n",
        "\n",
        "\n",
        "def evaluate_test_metrics(model, test_loader, device, class_names):\n",
        "    model.eval()\n",
        "    y_true = []\n",
        "    y_pred = []\n",
        "\n",
        "    with torch.no_grad():\n",
        "        for images, labels in test_loader:\n",
        "            images, labels = images.to(device), labels.to(device)\n",
        "            outputs = model(images)\n",
        "            _, preds = torch.max(outputs, 1)\n",
        "\n",
        "            y_true.extend(labels.cpu().numpy())\n",
        "            y_pred.extend(preds.cpu().numpy())\n",
        "\n",
        "    # Menghitung classification report\n",
        "    print(\"\\nClassification Report:\")\n",
        "    report = classification_report(y_true, y_pred, target_names=class_names)\n",
        "    print(report)\n",
        "\n",
        "    # Menampilkan confusion matrix\n",
        "    cm = confusion_matrix(y_true, y_pred)\n",
        "    plt.figure(figsize=(10, 8))\n",
        "    sns.heatmap(cm, annot=True, fmt='d', cmap='Blues',\n",
        "                xticklabels=class_names,\n",
        "                yticklabels=class_names)\n",
        "    plt.xlabel(\"Predicted\")\n",
        "    plt.ylabel(\"True\")\n",
        "    plt.title(\"Confusion Matrix\")\n",
        "    plt.show()\n",
        "\n",
        "    # Mengembalikan hasil classification report dalam bentuk dictionary\n",
        "    return report"
      ],
      "metadata": {
        "id": "6bJIMRiJDvhE"
      },
      "execution_count": 3,
      "outputs": []
    },
    {
      "cell_type": "markdown",
      "source": [
        "## **Experiment 3 Skema :**\n",
        "\n",
        "Epoch 30 :\n",
        "*   Model 1 - ResNet18 No Pretrained, Optimizer Adam, Learning Rate 0.001\n",
        "*   Model 2 - ResNet18 Pretrained, Optimizer Adam, Learning Rate 0.0005\n",
        "*   Model 3 - ResNet18 No Pretrained, Optimizer SGD, Learning Rate 0.001\n",
        "\n",
        "\n",
        "\n"
      ],
      "metadata": {
        "id": "0ZkHYcZSELts"
      }
    },
    {
      "cell_type": "code",
      "source": [
        "def run_experiment(config):\n",
        "    print(f\"\\nRunning experiment: {config['name']}\")\n",
        "    model = build_model(pretrained=config['pretrained'], num_classes=num_classes)\n",
        "    optimizer = get_optimizer(model, optim_name=config['optimizer'], lr=config['lr'])\n",
        "    criterion = nn.CrossEntropyLoss()\n",
        "    history = train(model, train_loader, val_loader, criterion, optimizer, device, epochs=config['epochs'])\n",
        "    val_loss, val_acc = evaluate(model, val_loader, criterion, device)\n",
        "    return {\n",
        "        'name': config['name'],\n",
        "        'model': model,\n",
        "        'history': history,\n",
        "        'val_loss': val_loss,\n",
        "        'val_acc': val_acc\n",
        "    }\n",
        "\n",
        "configs = [\n",
        "    {'name': 'Model 1 - ResNet18 No Pretrained, Adam, LR=0.001', 'pretrained': False, 'optimizer': 'adam', 'lr': 0.001, 'epochs': 30},\n",
        "    {'name': 'Model 2 - ResNet18 Pretrained, Adam, LR=0.0005', 'pretrained': True, 'optimizer': 'adam', 'lr': 0.0005, 'epochs': 30},\n",
        "    {'name': 'Model 3 - ResNet18 No Pretrained, SGD, LR=0.001', 'pretrained': False, 'optimizer': 'sgd', 'lr': 0.001, 'epochs': 30}\n",
        "]\n",
        "\n",
        "results = []\n",
        "for config in configs:\n",
        "    result = run_experiment(config)\n",
        "    results.append(result)"
      ],
      "metadata": {
        "colab": {
          "base_uri": "https://localhost:8080/"
        },
        "id": "vpvXgxC7EFT3",
        "outputId": "8e9748fb-9725-45d6-d63e-841577bbd360"
      },
      "execution_count": 4,
      "outputs": [
        {
          "output_type": "stream",
          "name": "stdout",
          "text": [
            "\n",
            "Running experiment: Model 1 - ResNet18 No Pretrained, Adam, LR=0.001\n"
          ]
        },
        {
          "output_type": "stream",
          "name": "stderr",
          "text": []
        },
        {
          "output_type": "stream",
          "name": "stdout",
          "text": [
            "[Epoch 1] Train Loss: 2.2339, Train Acc: 0.1788, Val Loss: 2.9946, Val Acc: 0.2362, Time: 9.44s\n"
          ]
        },
        {
          "output_type": "stream",
          "name": "stderr",
          "text": []
        },
        {
          "output_type": "stream",
          "name": "stdout",
          "text": [
            "[Epoch 2] Train Loss: 1.6907, Train Acc: 0.3867, Val Loss: 1.5513, Val Acc: 0.4725, Time: 8.19s\n"
          ]
        },
        {
          "output_type": "stream",
          "name": "stderr",
          "text": []
        },
        {
          "output_type": "stream",
          "name": "stdout",
          "text": [
            "[Epoch 3] Train Loss: 1.2296, Train Acc: 0.5599, Val Loss: 1.6420, Val Acc: 0.5178, Time: 8.03s\n"
          ]
        },
        {
          "output_type": "stream",
          "name": "stderr",
          "text": []
        },
        {
          "output_type": "stream",
          "name": "stdout",
          "text": [
            "[Epoch 4] Train Loss: 1.1087, Train Acc: 0.6098, Val Loss: 1.0512, Val Acc: 0.5922, Time: 7.47s\n"
          ]
        },
        {
          "output_type": "stream",
          "name": "stderr",
          "text": []
        },
        {
          "output_type": "stream",
          "name": "stdout",
          "text": [
            "[Epoch 5] Train Loss: 0.9009, Train Acc: 0.6812, Val Loss: 1.5596, Val Acc: 0.5340, Time: 8.20s\n"
          ]
        },
        {
          "output_type": "stream",
          "name": "stderr",
          "text": []
        },
        {
          "output_type": "stream",
          "name": "stdout",
          "text": [
            "[Epoch 6] Train Loss: 0.8041, Train Acc: 0.7332, Val Loss: 1.3735, Val Acc: 0.5599, Time: 7.24s\n"
          ]
        },
        {
          "output_type": "stream",
          "name": "stderr",
          "text": []
        },
        {
          "output_type": "stream",
          "name": "stdout",
          "text": [
            "[Epoch 7] Train Loss: 0.8035, Train Acc: 0.7637, Val Loss: 1.0933, Val Acc: 0.6408, Time: 8.10s\n"
          ]
        },
        {
          "output_type": "stream",
          "name": "stderr",
          "text": []
        },
        {
          "output_type": "stream",
          "name": "stdout",
          "text": [
            "[Epoch 8] Train Loss: 0.7058, Train Acc: 0.7741, Val Loss: 0.7437, Val Acc: 0.6861, Time: 8.22s\n"
          ]
        },
        {
          "output_type": "stream",
          "name": "stderr",
          "text": []
        },
        {
          "output_type": "stream",
          "name": "stdout",
          "text": [
            "[Epoch 9] Train Loss: 0.5491, Train Acc: 0.8011, Val Loss: 0.6063, Val Acc: 0.8026, Time: 8.95s\n"
          ]
        },
        {
          "output_type": "stream",
          "name": "stderr",
          "text": []
        },
        {
          "output_type": "stream",
          "name": "stdout",
          "text": [
            "[Epoch 10] Train Loss: 0.4551, Train Acc: 0.8552, Val Loss: 0.4826, Val Acc: 0.8479, Time: 8.12s\n"
          ]
        },
        {
          "output_type": "stream",
          "name": "stderr",
          "text": []
        },
        {
          "output_type": "stream",
          "name": "stdout",
          "text": [
            "[Epoch 11] Train Loss: 0.4538, Train Acc: 0.8635, Val Loss: 0.5276, Val Acc: 0.8252, Time: 8.14s\n"
          ]
        },
        {
          "output_type": "stream",
          "name": "stderr",
          "text": []
        },
        {
          "output_type": "stream",
          "name": "stdout",
          "text": [
            "[Epoch 12] Train Loss: 0.4320, Train Acc: 0.8607, Val Loss: 0.5021, Val Acc: 0.8317, Time: 7.38s\n"
          ]
        },
        {
          "output_type": "stream",
          "name": "stderr",
          "text": []
        },
        {
          "output_type": "stream",
          "name": "stdout",
          "text": [
            "[Epoch 13] Train Loss: 0.3605, Train Acc: 0.8815, Val Loss: 0.3065, Val Acc: 0.8964, Time: 8.21s\n"
          ]
        },
        {
          "output_type": "stream",
          "name": "stderr",
          "text": []
        },
        {
          "output_type": "stream",
          "name": "stdout",
          "text": [
            "[Epoch 14] Train Loss: 0.3278, Train Acc: 0.9106, Val Loss: 1.0322, Val Acc: 0.7314, Time: 7.28s\n"
          ]
        },
        {
          "output_type": "stream",
          "name": "stderr",
          "text": []
        },
        {
          "output_type": "stream",
          "name": "stdout",
          "text": [
            "[Epoch 15] Train Loss: 0.5091, Train Acc: 0.8489, Val Loss: 0.5735, Val Acc: 0.8285, Time: 7.78s\n"
          ]
        },
        {
          "output_type": "stream",
          "name": "stderr",
          "text": []
        },
        {
          "output_type": "stream",
          "name": "stdout",
          "text": [
            "[Epoch 16] Train Loss: 0.4231, Train Acc: 0.8766, Val Loss: 0.3535, Val Acc: 0.8673, Time: 8.00s\n"
          ]
        },
        {
          "output_type": "stream",
          "name": "stderr",
          "text": []
        },
        {
          "output_type": "stream",
          "name": "stdout",
          "text": [
            "[Epoch 17] Train Loss: 0.5009, Train Acc: 0.8365, Val Loss: 0.4320, Val Acc: 0.8511, Time: 7.11s\n"
          ]
        },
        {
          "output_type": "stream",
          "name": "stderr",
          "text": []
        },
        {
          "output_type": "stream",
          "name": "stdout",
          "text": [
            "[Epoch 18] Train Loss: 0.3177, Train Acc: 0.8954, Val Loss: 0.3023, Val Acc: 0.8932, Time: 8.47s\n"
          ]
        },
        {
          "output_type": "stream",
          "name": "stderr",
          "text": []
        },
        {
          "output_type": "stream",
          "name": "stdout",
          "text": [
            "[Epoch 19] Train Loss: 0.2651, Train Acc: 0.9085, Val Loss: 0.4389, Val Acc: 0.8673, Time: 6.75s\n"
          ]
        },
        {
          "output_type": "stream",
          "name": "stderr",
          "text": []
        },
        {
          "output_type": "stream",
          "name": "stdout",
          "text": [
            "[Epoch 20] Train Loss: 0.2278, Train Acc: 0.9300, Val Loss: 0.4116, Val Acc: 0.8511, Time: 7.77s\n"
          ]
        },
        {
          "output_type": "stream",
          "name": "stderr",
          "text": []
        },
        {
          "output_type": "stream",
          "name": "stdout",
          "text": [
            "[Epoch 21] Train Loss: 0.4252, Train Acc: 0.8593, Val Loss: 0.2507, Val Acc: 0.9288, Time: 7.72s\n"
          ]
        },
        {
          "output_type": "stream",
          "name": "stderr",
          "text": []
        },
        {
          "output_type": "stream",
          "name": "stdout",
          "text": [
            "[Epoch 22] Train Loss: 0.2823, Train Acc: 0.9099, Val Loss: 0.4441, Val Acc: 0.8544, Time: 6.82s\n"
          ]
        },
        {
          "output_type": "stream",
          "name": "stderr",
          "text": []
        },
        {
          "output_type": "stream",
          "name": "stdout",
          "text": [
            "[Epoch 23] Train Loss: 0.4195, Train Acc: 0.8843, Val Loss: 0.4278, Val Acc: 0.8706, Time: 7.60s\n"
          ]
        },
        {
          "output_type": "stream",
          "name": "stderr",
          "text": []
        },
        {
          "output_type": "stream",
          "name": "stdout",
          "text": [
            "[Epoch 24] Train Loss: 0.3384, Train Acc: 0.8905, Val Loss: 0.2056, Val Acc: 0.9385, Time: 6.81s\n"
          ]
        },
        {
          "output_type": "stream",
          "name": "stderr",
          "text": []
        },
        {
          "output_type": "stream",
          "name": "stdout",
          "text": [
            "[Epoch 25] Train Loss: 0.1889, Train Acc: 0.9397, Val Loss: 0.1769, Val Acc: 0.9417, Time: 7.69s\n"
          ]
        },
        {
          "output_type": "stream",
          "name": "stderr",
          "text": []
        },
        {
          "output_type": "stream",
          "name": "stdout",
          "text": [
            "[Epoch 26] Train Loss: 0.1735, Train Acc: 0.9446, Val Loss: 0.1883, Val Acc: 0.9288, Time: 7.14s\n"
          ]
        },
        {
          "output_type": "stream",
          "name": "stderr",
          "text": []
        },
        {
          "output_type": "stream",
          "name": "stdout",
          "text": [
            "[Epoch 27] Train Loss: 0.1657, Train Acc: 0.9529, Val Loss: 0.3005, Val Acc: 0.9061, Time: 7.56s\n"
          ]
        },
        {
          "output_type": "stream",
          "name": "stderr",
          "text": []
        },
        {
          "output_type": "stream",
          "name": "stdout",
          "text": [
            "[Epoch 28] Train Loss: 0.1730, Train Acc: 0.9459, Val Loss: 0.1190, Val Acc: 0.9579, Time: 7.86s\n"
          ]
        },
        {
          "output_type": "stream",
          "name": "stderr",
          "text": []
        },
        {
          "output_type": "stream",
          "name": "stdout",
          "text": [
            "[Epoch 29] Train Loss: 0.1848, Train Acc: 0.9501, Val Loss: 0.2174, Val Acc: 0.9288, Time: 6.93s\n"
          ]
        },
        {
          "output_type": "stream",
          "name": "stderr",
          "text": []
        },
        {
          "output_type": "stream",
          "name": "stdout",
          "text": [
            "[Epoch 30] Train Loss: 0.2588, Train Acc: 0.9203, Val Loss: 0.2973, Val Acc: 0.9126, Time: 7.74s\n",
            "\n",
            "Total Training Time: 232.71 seconds\n",
            "Validation Loss: 0.2782, Accuracy: 0.9126\n",
            "\n",
            "Running experiment: Model 2 - ResNet18 Pretrained, Adam, LR=0.0005\n"
          ]
        },
        {
          "output_type": "stream",
          "name": "stderr",
          "text": [
            "Downloading: \"https://download.pytorch.org/models/resnet18-f37072fd.pth\" to /root/.cache/torch/hub/checkpoints/resnet18-f37072fd.pth\n",
            "100%|██████████| 44.7M/44.7M [00:00<00:00, 177MB/s]\n"
          ]
        },
        {
          "output_type": "stream",
          "name": "stdout",
          "text": [
            "[Epoch 1] Train Loss: 1.3378, Train Acc: 0.5440, Val Loss: 1.1576, Val Acc: 0.6667, Time: 7.47s\n"
          ]
        },
        {
          "output_type": "stream",
          "name": "stderr",
          "text": []
        },
        {
          "output_type": "stream",
          "name": "stdout",
          "text": [
            "[Epoch 2] Train Loss: 0.6823, Train Acc: 0.7637, Val Loss: 0.4150, Val Acc: 0.8608, Time: 7.02s\n"
          ]
        },
        {
          "output_type": "stream",
          "name": "stderr",
          "text": []
        },
        {
          "output_type": "stream",
          "name": "stdout",
          "text": [
            "[Epoch 3] Train Loss: 0.6612, Train Acc: 0.8025, Val Loss: 0.2496, Val Acc: 0.9126, Time: 7.60s\n"
          ]
        },
        {
          "output_type": "stream",
          "name": "stderr",
          "text": []
        },
        {
          "output_type": "stream",
          "name": "stdout",
          "text": [
            "[Epoch 4] Train Loss: 0.4290, Train Acc: 0.8683, Val Loss: 0.3009, Val Acc: 0.8997, Time: 6.75s\n"
          ]
        },
        {
          "output_type": "stream",
          "name": "stderr",
          "text": []
        },
        {
          "output_type": "stream",
          "name": "stdout",
          "text": [
            "[Epoch 5] Train Loss: 0.4657, Train Acc: 0.8572, Val Loss: 0.3148, Val Acc: 0.8964, Time: 7.65s\n"
          ]
        },
        {
          "output_type": "stream",
          "name": "stderr",
          "text": []
        },
        {
          "output_type": "stream",
          "name": "stdout",
          "text": [
            "[Epoch 6] Train Loss: 0.4350, Train Acc: 0.8697, Val Loss: 0.1990, Val Acc: 0.9288, Time: 6.85s\n"
          ]
        },
        {
          "output_type": "stream",
          "name": "stderr",
          "text": []
        },
        {
          "output_type": "stream",
          "name": "stdout",
          "text": [
            "[Epoch 7] Train Loss: 0.2514, Train Acc: 0.9258, Val Loss: 0.2089, Val Acc: 0.9320, Time: 7.68s\n"
          ]
        },
        {
          "output_type": "stream",
          "name": "stderr",
          "text": []
        },
        {
          "output_type": "stream",
          "name": "stdout",
          "text": [
            "[Epoch 8] Train Loss: 0.2736, Train Acc: 0.9106, Val Loss: 0.2796, Val Acc: 0.9061, Time: 7.54s\n"
          ]
        },
        {
          "output_type": "stream",
          "name": "stderr",
          "text": []
        },
        {
          "output_type": "stream",
          "name": "stdout",
          "text": [
            "[Epoch 9] Train Loss: 0.2066, Train Acc: 0.9349, Val Loss: 0.1346, Val Acc: 0.9612, Time: 6.76s\n"
          ]
        },
        {
          "output_type": "stream",
          "name": "stderr",
          "text": []
        },
        {
          "output_type": "stream",
          "name": "stdout",
          "text": [
            "[Epoch 10] Train Loss: 0.1671, Train Acc: 0.9515, Val Loss: 0.2691, Val Acc: 0.9061, Time: 7.55s\n"
          ]
        },
        {
          "output_type": "stream",
          "name": "stderr",
          "text": []
        },
        {
          "output_type": "stream",
          "name": "stdout",
          "text": [
            "[Epoch 11] Train Loss: 0.2902, Train Acc: 0.9272, Val Loss: 0.1961, Val Acc: 0.9353, Time: 6.82s\n"
          ]
        },
        {
          "output_type": "stream",
          "name": "stderr",
          "text": []
        },
        {
          "output_type": "stream",
          "name": "stdout",
          "text": [
            "[Epoch 12] Train Loss: 0.2700, Train Acc: 0.9245, Val Loss: 0.1894, Val Acc: 0.9320, Time: 7.58s\n"
          ]
        },
        {
          "output_type": "stream",
          "name": "stderr",
          "text": []
        },
        {
          "output_type": "stream",
          "name": "stdout",
          "text": [
            "[Epoch 13] Train Loss: 0.2114, Train Acc: 0.9307, Val Loss: 0.1632, Val Acc: 0.9417, Time: 6.76s\n"
          ]
        },
        {
          "output_type": "stream",
          "name": "stderr",
          "text": []
        },
        {
          "output_type": "stream",
          "name": "stdout",
          "text": [
            "[Epoch 14] Train Loss: 0.2218, Train Acc: 0.9480, Val Loss: 0.1337, Val Acc: 0.9547, Time: 7.54s\n"
          ]
        },
        {
          "output_type": "stream",
          "name": "stderr",
          "text": []
        },
        {
          "output_type": "stream",
          "name": "stdout",
          "text": [
            "[Epoch 15] Train Loss: 0.2001, Train Acc: 0.9376, Val Loss: 0.1176, Val Acc: 0.9644, Time: 7.66s\n"
          ]
        },
        {
          "output_type": "stream",
          "name": "stderr",
          "text": []
        },
        {
          "output_type": "stream",
          "name": "stdout",
          "text": [
            "[Epoch 16] Train Loss: 0.2106, Train Acc: 0.9550, Val Loss: 0.1512, Val Acc: 0.9482, Time: 6.79s\n"
          ]
        },
        {
          "output_type": "stream",
          "name": "stderr",
          "text": []
        },
        {
          "output_type": "stream",
          "name": "stdout",
          "text": [
            "[Epoch 17] Train Loss: 0.1995, Train Acc: 0.9390, Val Loss: 0.1109, Val Acc: 0.9709, Time: 7.59s\n"
          ]
        },
        {
          "output_type": "stream",
          "name": "stderr",
          "text": []
        },
        {
          "output_type": "stream",
          "name": "stdout",
          "text": [
            "[Epoch 18] Train Loss: 0.1124, Train Acc: 0.9688, Val Loss: 0.0609, Val Acc: 0.9773, Time: 6.74s\n"
          ]
        },
        {
          "output_type": "stream",
          "name": "stderr",
          "text": []
        },
        {
          "output_type": "stream",
          "name": "stdout",
          "text": [
            "[Epoch 19] Train Loss: 0.1474, Train Acc: 0.9626, Val Loss: 0.1104, Val Acc: 0.9709, Time: 7.61s\n"
          ]
        },
        {
          "output_type": "stream",
          "name": "stderr",
          "text": []
        },
        {
          "output_type": "stream",
          "name": "stdout",
          "text": [
            "[Epoch 20] Train Loss: 0.1616, Train Acc: 0.9508, Val Loss: 0.0579, Val Acc: 0.9838, Time: 6.86s\n"
          ]
        },
        {
          "output_type": "stream",
          "name": "stderr",
          "text": []
        },
        {
          "output_type": "stream",
          "name": "stdout",
          "text": [
            "[Epoch 21] Train Loss: 0.1747, Train Acc: 0.9480, Val Loss: 0.1172, Val Acc: 0.9547, Time: 7.48s\n"
          ]
        },
        {
          "output_type": "stream",
          "name": "stderr",
          "text": []
        },
        {
          "output_type": "stream",
          "name": "stdout",
          "text": [
            "[Epoch 22] Train Loss: 0.1183, Train Acc: 0.9633, Val Loss: 0.1173, Val Acc: 0.9676, Time: 7.58s\n"
          ]
        },
        {
          "output_type": "stream",
          "name": "stderr",
          "text": []
        },
        {
          "output_type": "stream",
          "name": "stdout",
          "text": [
            "[Epoch 23] Train Loss: 0.1089, Train Acc: 0.9709, Val Loss: 0.0623, Val Acc: 0.9838, Time: 6.78s\n"
          ]
        },
        {
          "output_type": "stream",
          "name": "stderr",
          "text": []
        },
        {
          "output_type": "stream",
          "name": "stdout",
          "text": [
            "[Epoch 24] Train Loss: 0.1030, Train Acc: 0.9647, Val Loss: 0.0885, Val Acc: 0.9709, Time: 8.44s\n"
          ]
        },
        {
          "output_type": "stream",
          "name": "stderr",
          "text": []
        },
        {
          "output_type": "stream",
          "name": "stdout",
          "text": [
            "[Epoch 25] Train Loss: 0.0852, Train Acc: 0.9716, Val Loss: 0.0659, Val Acc: 0.9773, Time: 6.70s\n"
          ]
        },
        {
          "output_type": "stream",
          "name": "stderr",
          "text": []
        },
        {
          "output_type": "stream",
          "name": "stdout",
          "text": [
            "[Epoch 26] Train Loss: 0.1024, Train Acc: 0.9813, Val Loss: 0.1313, Val Acc: 0.9676, Time: 8.11s\n"
          ]
        },
        {
          "output_type": "stream",
          "name": "stderr",
          "text": []
        },
        {
          "output_type": "stream",
          "name": "stdout",
          "text": [
            "[Epoch 27] Train Loss: 0.2990, Train Acc: 0.9092, Val Loss: 0.1090, Val Acc: 0.9676, Time: 6.71s\n"
          ]
        },
        {
          "output_type": "stream",
          "name": "stderr",
          "text": []
        },
        {
          "output_type": "stream",
          "name": "stdout",
          "text": [
            "[Epoch 28] Train Loss: 0.2233, Train Acc: 0.9473, Val Loss: 0.1191, Val Acc: 0.9579, Time: 9.14s\n"
          ]
        },
        {
          "output_type": "stream",
          "name": "stderr",
          "text": []
        },
        {
          "output_type": "stream",
          "name": "stdout",
          "text": [
            "[Epoch 29] Train Loss: 0.1814, Train Acc: 0.9383, Val Loss: 0.0918, Val Acc: 0.9838, Time: 7.52s\n"
          ]
        },
        {
          "output_type": "stream",
          "name": "stderr",
          "text": []
        },
        {
          "output_type": "stream",
          "name": "stdout",
          "text": [
            "[Epoch 30] Train Loss: 0.1529, Train Acc: 0.9556, Val Loss: 0.1160, Val Acc: 0.9709, Time: 6.67s\n",
            "\n",
            "Total Training Time: 219.96 seconds\n",
            "Validation Loss: 0.1005, Accuracy: 0.9644\n",
            "\n",
            "Running experiment: Model 3 - ResNet18 No Pretrained, SGD, LR=0.001\n"
          ]
        },
        {
          "output_type": "stream",
          "name": "stderr",
          "text": []
        },
        {
          "output_type": "stream",
          "name": "stdout",
          "text": [
            "[Epoch 1] Train Loss: 2.3880, Train Acc: 0.0977, Val Loss: 2.3435, Val Acc: 0.1133, Time: 7.59s\n"
          ]
        },
        {
          "output_type": "stream",
          "name": "stderr",
          "text": []
        },
        {
          "output_type": "stream",
          "name": "stdout",
          "text": [
            "[Epoch 2] Train Loss: 2.3403, Train Acc: 0.1199, Val Loss: 2.3469, Val Acc: 0.1165, Time: 6.61s\n"
          ]
        },
        {
          "output_type": "stream",
          "name": "stderr",
          "text": []
        },
        {
          "output_type": "stream",
          "name": "stdout",
          "text": [
            "[Epoch 3] Train Loss: 2.3247, Train Acc: 0.1074, Val Loss: 2.3152, Val Acc: 0.1359, Time: 7.44s\n"
          ]
        },
        {
          "output_type": "stream",
          "name": "stderr",
          "text": []
        },
        {
          "output_type": "stream",
          "name": "stdout",
          "text": [
            "[Epoch 4] Train Loss: 2.2860, Train Acc: 0.1400, Val Loss: 2.2301, Val Acc: 0.1909, Time: 7.29s\n"
          ]
        },
        {
          "output_type": "stream",
          "name": "stderr",
          "text": []
        },
        {
          "output_type": "stream",
          "name": "stdout",
          "text": [
            "[Epoch 5] Train Loss: 2.2323, Train Acc: 0.1760, Val Loss: 2.1625, Val Acc: 0.2330, Time: 6.89s\n"
          ]
        },
        {
          "output_type": "stream",
          "name": "stderr",
          "text": []
        },
        {
          "output_type": "stream",
          "name": "stdout",
          "text": [
            "[Epoch 6] Train Loss: 2.1427, Train Acc: 0.2259, Val Loss: 2.0624, Val Acc: 0.2816, Time: 7.40s\n"
          ]
        },
        {
          "output_type": "stream",
          "name": "stderr",
          "text": []
        },
        {
          "output_type": "stream",
          "name": "stdout",
          "text": [
            "[Epoch 7] Train Loss: 1.9756, Train Acc: 0.3035, Val Loss: 1.8665, Val Acc: 0.3883, Time: 6.92s\n"
          ]
        },
        {
          "output_type": "stream",
          "name": "stderr",
          "text": []
        },
        {
          "output_type": "stream",
          "name": "stdout",
          "text": [
            "[Epoch 8] Train Loss: 1.8253, Train Acc: 0.3756, Val Loss: 1.7339, Val Acc: 0.3560, Time: 7.39s\n"
          ]
        },
        {
          "output_type": "stream",
          "name": "stderr",
          "text": []
        },
        {
          "output_type": "stream",
          "name": "stdout",
          "text": [
            "[Epoch 9] Train Loss: 1.5891, Train Acc: 0.4477, Val Loss: 1.5206, Val Acc: 0.4757, Time: 6.61s\n"
          ]
        },
        {
          "output_type": "stream",
          "name": "stderr",
          "text": []
        },
        {
          "output_type": "stream",
          "name": "stdout",
          "text": [
            "[Epoch 10] Train Loss: 1.4190, Train Acc: 0.4906, Val Loss: 1.3652, Val Acc: 0.5146, Time: 7.49s\n"
          ]
        },
        {
          "output_type": "stream",
          "name": "stderr",
          "text": []
        },
        {
          "output_type": "stream",
          "name": "stdout",
          "text": [
            "[Epoch 11] Train Loss: 1.3265, Train Acc: 0.5523, Val Loss: 1.2230, Val Acc: 0.5858, Time: 7.14s\n"
          ]
        },
        {
          "output_type": "stream",
          "name": "stderr",
          "text": []
        },
        {
          "output_type": "stream",
          "name": "stdout",
          "text": [
            "[Epoch 12] Train Loss: 1.2015, Train Acc: 0.5807, Val Loss: 1.0905, Val Acc: 0.6278, Time: 6.97s\n"
          ]
        },
        {
          "output_type": "stream",
          "name": "stderr",
          "text": []
        },
        {
          "output_type": "stream",
          "name": "stdout",
          "text": [
            "[Epoch 13] Train Loss: 1.0785, Train Acc: 0.6202, Val Loss: 1.3106, Val Acc: 0.5469, Time: 7.40s\n"
          ]
        },
        {
          "output_type": "stream",
          "name": "stderr",
          "text": []
        },
        {
          "output_type": "stream",
          "name": "stdout",
          "text": [
            "[Epoch 14] Train Loss: 0.9960, Train Acc: 0.6618, Val Loss: 0.8845, Val Acc: 0.7152, Time: 6.64s\n"
          ]
        },
        {
          "output_type": "stream",
          "name": "stderr",
          "text": []
        },
        {
          "output_type": "stream",
          "name": "stdout",
          "text": [
            "[Epoch 15] Train Loss: 0.9559, Train Acc: 0.6632, Val Loss: 1.1657, Val Acc: 0.5890, Time: 7.38s\n"
          ]
        },
        {
          "output_type": "stream",
          "name": "stderr",
          "text": []
        },
        {
          "output_type": "stream",
          "name": "stdout",
          "text": [
            "[Epoch 16] Train Loss: 0.8685, Train Acc: 0.7152, Val Loss: 0.7904, Val Acc: 0.7217, Time: 6.63s\n"
          ]
        },
        {
          "output_type": "stream",
          "name": "stderr",
          "text": []
        },
        {
          "output_type": "stream",
          "name": "stdout",
          "text": [
            "[Epoch 17] Train Loss: 0.8494, Train Acc: 0.6999, Val Loss: 1.3079, Val Acc: 0.5437, Time: 7.41s\n"
          ]
        },
        {
          "output_type": "stream",
          "name": "stderr",
          "text": []
        },
        {
          "output_type": "stream",
          "name": "stdout",
          "text": [
            "[Epoch 18] Train Loss: 0.7615, Train Acc: 0.7471, Val Loss: 0.8137, Val Acc: 0.7152, Time: 6.92s\n"
          ]
        },
        {
          "output_type": "stream",
          "name": "stderr",
          "text": []
        },
        {
          "output_type": "stream",
          "name": "stdout",
          "text": [
            "[Epoch 19] Train Loss: 0.7291, Train Acc: 0.7415, Val Loss: 0.7565, Val Acc: 0.7249, Time: 7.26s\n"
          ]
        },
        {
          "output_type": "stream",
          "name": "stderr",
          "text": []
        },
        {
          "output_type": "stream",
          "name": "stdout",
          "text": [
            "[Epoch 20] Train Loss: 0.6527, Train Acc: 0.7623, Val Loss: 0.9865, Val Acc: 0.6634, Time: 7.45s\n"
          ]
        },
        {
          "output_type": "stream",
          "name": "stderr",
          "text": []
        },
        {
          "output_type": "stream",
          "name": "stdout",
          "text": [
            "[Epoch 21] Train Loss: 0.6301, Train Acc: 0.7928, Val Loss: 0.6069, Val Acc: 0.7896, Time: 6.63s\n"
          ]
        },
        {
          "output_type": "stream",
          "name": "stderr",
          "text": []
        },
        {
          "output_type": "stream",
          "name": "stdout",
          "text": [
            "[Epoch 22] Train Loss: 0.6095, Train Acc: 0.7810, Val Loss: 0.5576, Val Acc: 0.8091, Time: 7.37s\n"
          ]
        },
        {
          "output_type": "stream",
          "name": "stderr",
          "text": []
        },
        {
          "output_type": "stream",
          "name": "stdout",
          "text": [
            "[Epoch 23] Train Loss: 0.5769, Train Acc: 0.8087, Val Loss: 0.5462, Val Acc: 0.8058, Time: 6.51s\n"
          ]
        },
        {
          "output_type": "stream",
          "name": "stderr",
          "text": []
        },
        {
          "output_type": "stream",
          "name": "stdout",
          "text": [
            "[Epoch 24] Train Loss: 0.5571, Train Acc: 0.8087, Val Loss: 0.4894, Val Acc: 0.8285, Time: 7.37s\n"
          ]
        },
        {
          "output_type": "stream",
          "name": "stderr",
          "text": []
        },
        {
          "output_type": "stream",
          "name": "stdout",
          "text": [
            "[Epoch 25] Train Loss: 0.5322, Train Acc: 0.8226, Val Loss: 0.5945, Val Acc: 0.7864, Time: 6.56s\n"
          ]
        },
        {
          "output_type": "stream",
          "name": "stderr",
          "text": []
        },
        {
          "output_type": "stream",
          "name": "stdout",
          "text": [
            "[Epoch 26] Train Loss: 0.5314, Train Acc: 0.8115, Val Loss: 0.5363, Val Acc: 0.7864, Time: 7.37s\n"
          ]
        },
        {
          "output_type": "stream",
          "name": "stderr",
          "text": []
        },
        {
          "output_type": "stream",
          "name": "stdout",
          "text": [
            "[Epoch 27] Train Loss: 0.5056, Train Acc: 0.8344, Val Loss: 0.5089, Val Acc: 0.8252, Time: 7.15s\n"
          ]
        },
        {
          "output_type": "stream",
          "name": "stderr",
          "text": []
        },
        {
          "output_type": "stream",
          "name": "stdout",
          "text": [
            "[Epoch 28] Train Loss: 0.4977, Train Acc: 0.8351, Val Loss: 0.4576, Val Acc: 0.8350, Time: 6.80s\n"
          ]
        },
        {
          "output_type": "stream",
          "name": "stderr",
          "text": []
        },
        {
          "output_type": "stream",
          "name": "stdout",
          "text": [
            "[Epoch 29] Train Loss: 0.4805, Train Acc: 0.8420, Val Loss: 0.4684, Val Acc: 0.8155, Time: 7.36s\n"
          ]
        },
        {
          "output_type": "stream",
          "name": "stderr",
          "text": []
        },
        {
          "output_type": "stream",
          "name": "stdout",
          "text": [
            "[Epoch 30] Train Loss: 0.4598, Train Acc: 0.8462, Val Loss: 0.4168, Val Acc: 0.8608, Time: 6.63s\n",
            "\n",
            "Total Training Time: 212.57 seconds\n",
            "Validation Loss: 0.3464, Accuracy: 0.8673\n"
          ]
        }
      ]
    },
    {
      "cell_type": "markdown",
      "source": [
        "### **Evaluasi dan Visualisasi Perbandingan**"
      ],
      "metadata": {
        "id": "M0NoP7c8FjR7"
      }
    },
    {
      "cell_type": "code",
      "source": [
        "for result in results:\n",
        "    print(f\"\\nEvaluasi untuk {result['name']}:\")\n",
        "    evaluate_test_metrics(result['model'], test_loader, device, dataset.classes)"
      ],
      "metadata": {
        "colab": {
          "base_uri": "https://localhost:8080/",
          "height": 1000
        },
        "id": "6XY2pm9LFCb5",
        "outputId": "7f76be11-ff9e-4521-8a49-29099eb69d0b"
      },
      "execution_count": 5,
      "outputs": [
        {
          "output_type": "stream",
          "name": "stdout",
          "text": [
            "\n",
            "Evaluasi untuk Model 1 - ResNet18 No Pretrained, Adam, LR=0.001:\n",
            "\n",
            "Classification Report:\n",
            "              precision    recall  f1-score   support\n",
            "\n",
            "           0       1.00      1.00      1.00        31\n",
            "           1       0.94      1.00      0.97        31\n",
            "           2       0.91      1.00      0.95        31\n",
            "           3       0.88      0.90      0.89        31\n",
            "           4       0.96      0.81      0.88        31\n",
            "           5       0.96      0.87      0.92        31\n",
            "           6       1.00      0.94      0.97        31\n",
            "           7       0.83      0.94      0.88        31\n",
            "           8       0.91      0.97      0.94        31\n",
            "           9       0.97      0.90      0.93        31\n",
            "\n",
            "    accuracy                           0.93       310\n",
            "   macro avg       0.94      0.93      0.93       310\n",
            "weighted avg       0.94      0.93      0.93       310\n",
            "\n"
          ]
        },
        {
          "output_type": "display_data",
          "data": {
            "text/plain": [
              "<Figure size 1000x800 with 2 Axes>"
            ],
            "image/png": "[encoded data removed]"
          },
          "metadata": {}
        },
        {
          "output_type": "stream",
          "name": "stdout",
          "text": [
            "\n",
            "Evaluasi untuk Model 2 - ResNet18 Pretrained, Adam, LR=0.0005:\n",
            "\n",
            "Classification Report:\n",
            "              precision    recall  f1-score   support\n",
            "\n",
            "           0       1.00      1.00      1.00        31\n",
            "           1       1.00      1.00      1.00        31\n",
            "           2       0.94      1.00      0.97        31\n",
            "           3       0.97      0.90      0.93        31\n",
            "           4       0.91      1.00      0.95        31\n",
            "           5       1.00      1.00      1.00        31\n",
            "           6       1.00      0.97      0.98        31\n",
            "           7       0.94      1.00      0.97        31\n",
            "           8       1.00      0.90      0.95        31\n",
            "           9       0.97      0.94      0.95        31\n",
            "\n",
            "    accuracy                           0.97       310\n",
            "   macro avg       0.97      0.97      0.97       310\n",
            "weighted avg       0.97      0.97      0.97       310\n",
            "\n"
          ]
        },
        {
          "output_type": "display_data",
          "data": {
            "text/plain": [
              "<Figure size 1000x800 with 2 Axes>"
            ],
            "image/png": "[encoded data removed]"
          },
          "metadata": {}
        },
        {
          "output_type": "stream",
          "name": "stdout",
          "text": [
            "\n",
            "Evaluasi untuk Model 3 - ResNet18 No Pretrained, SGD, LR=0.001:\n",
            "\n",
            "Classification Report:\n",
            "              precision    recall  f1-score   support\n",
            "\n",
            "           0       0.97      1.00      0.98        31\n",
            "           1       1.00      0.97      0.98        31\n",
            "           2       0.76      0.94      0.84        31\n",
            "           3       0.83      0.77      0.80        31\n",
            "           4       0.92      0.71      0.80        31\n",
            "           5       0.91      1.00      0.95        31\n",
            "           6       0.72      0.84      0.78        31\n",
            "           7       0.69      0.71      0.70        31\n",
            "           8       0.81      0.84      0.83        31\n",
            "           9       0.96      0.71      0.81        31\n",
            "\n",
            "    accuracy                           0.85       310\n",
            "   macro avg       0.86      0.85      0.85       310\n",
            "weighted avg       0.86      0.85      0.85       310\n",
            "\n"
          ]
        },
        {
          "output_type": "display_data",
          "data": {
            "text/plain": [
              "<Figure size 1000x800 with 2 Axes>"
            ],
            "image/png": "[encoded data removed]"
          },
          "metadata": {}
        }
      ]
    },
    {
      "cell_type": "code",
      "source": [
        "# Pilih model dengan val_acc terbaik\n",
        "best_model_result = max(results, key=lambda x: x['val_acc'])\n",
        "print(f\"\\nModel terbaik: {best_model_result['name']} dengan val accuracy {best_model_result['val_acc']:.4f}\")\n",
        "\n",
        "# Simpan model terbaik ke file\n",
        "torch.save(best_model_result['model'].state_dict(), \"best_model.pth\")\n",
        "print(\"Model terbaik berhasil disimpan ke file 'best_model.pth'\")\n"
      ],
      "metadata": {
        "colab": {
          "base_uri": "https://localhost:8080/"
        },
        "id": "IgTk2eOYbUOe",
        "outputId": "15e24bfd-decd-47dd-8a6e-d4be8782f1e2"
      },
      "execution_count": 6,
      "outputs": [
        {
          "output_type": "stream",
          "name": "stdout",
          "text": [
            "\n",
            "Model terbaik: Model 2 - ResNet18 Pretrained, Adam, LR=0.0005 dengan val accuracy 0.9644\n",
            "Model terbaik berhasil disimpan ke file 'best_model.pth'\n"
          ]
        }
      ]
    }
  ]
}